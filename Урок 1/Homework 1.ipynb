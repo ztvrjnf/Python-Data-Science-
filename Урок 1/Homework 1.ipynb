{
 "cells": [
  {
   "cell_type": "markdown",
   "metadata": {},
   "source": [
    "# Практика"
   ]
  },
  {
   "cell_type": "code",
   "execution_count": 1,
   "metadata": {},
   "outputs": [],
   "source": [
    "import numpy as np\n",
    "import pandas as pd"
   ]
  },
  {
   "cell_type": "code",
   "execution_count": 2,
   "metadata": {},
   "outputs": [],
   "source": [
    "TRAIN_DATASET_PATH = 'C:/Users/Sancho/Downloads/python 2/train.csv'"
   ]
  },
  {
   "cell_type": "code",
   "execution_count": 3,
   "metadata": {},
   "outputs": [
    {
     "data": {
      "text/html": [
       "<div>\n",
       "<style scoped>\n",
       "    .dataframe tbody tr th:only-of-type {\n",
       "        vertical-align: middle;\n",
       "    }\n",
       "\n",
       "    .dataframe tbody tr th {\n",
       "        vertical-align: top;\n",
       "    }\n",
       "\n",
       "    .dataframe thead th {\n",
       "        text-align: right;\n",
       "    }\n",
       "</style>\n",
       "<table border=\"1\" class=\"dataframe\">\n",
       "  <thead>\n",
       "    <tr style=\"text-align: right;\">\n",
       "      <th></th>\n",
       "      <th>Annual Income</th>\n",
       "      <th>Tax Liens</th>\n",
       "      <th>Number of Open Accounts</th>\n",
       "      <th>Years of Credit History</th>\n",
       "      <th>Maximum Open Credit</th>\n",
       "      <th>Number of Credit Problems</th>\n",
       "      <th>Months since last delinquent</th>\n",
       "      <th>Bankruptcies</th>\n",
       "      <th>Current Loan Amount</th>\n",
       "      <th>Current Credit Balance</th>\n",
       "      <th>Monthly Debt</th>\n",
       "      <th>Credit Score</th>\n",
       "      <th>Credit Default</th>\n",
       "    </tr>\n",
       "  </thead>\n",
       "  <tbody>\n",
       "    <tr>\n",
       "      <th>count</th>\n",
       "      <td>5.943000e+03</td>\n",
       "      <td>7500.000000</td>\n",
       "      <td>7500.000000</td>\n",
       "      <td>7500.000000</td>\n",
       "      <td>7.500000e+03</td>\n",
       "      <td>7500.000000</td>\n",
       "      <td>3419.000000</td>\n",
       "      <td>7486.000000</td>\n",
       "      <td>7.500000e+03</td>\n",
       "      <td>7.500000e+03</td>\n",
       "      <td>7500.000000</td>\n",
       "      <td>5943.000000</td>\n",
       "      <td>7500.000000</td>\n",
       "    </tr>\n",
       "    <tr>\n",
       "      <th>mean</th>\n",
       "      <td>1.366392e+06</td>\n",
       "      <td>0.030133</td>\n",
       "      <td>11.130933</td>\n",
       "      <td>18.317467</td>\n",
       "      <td>9.451537e+05</td>\n",
       "      <td>0.170000</td>\n",
       "      <td>34.692600</td>\n",
       "      <td>0.117152</td>\n",
       "      <td>1.187318e+07</td>\n",
       "      <td>2.898332e+05</td>\n",
       "      <td>18314.454133</td>\n",
       "      <td>1151.087498</td>\n",
       "      <td>0.281733</td>\n",
       "    </tr>\n",
       "    <tr>\n",
       "      <th>std</th>\n",
       "      <td>8.453392e+05</td>\n",
       "      <td>0.271604</td>\n",
       "      <td>4.908924</td>\n",
       "      <td>7.041946</td>\n",
       "      <td>1.602622e+07</td>\n",
       "      <td>0.498598</td>\n",
       "      <td>21.688806</td>\n",
       "      <td>0.347192</td>\n",
       "      <td>3.192612e+07</td>\n",
       "      <td>3.178714e+05</td>\n",
       "      <td>11926.764673</td>\n",
       "      <td>1604.451418</td>\n",
       "      <td>0.449874</td>\n",
       "    </tr>\n",
       "    <tr>\n",
       "      <th>min</th>\n",
       "      <td>1.645970e+05</td>\n",
       "      <td>0.000000</td>\n",
       "      <td>2.000000</td>\n",
       "      <td>4.000000</td>\n",
       "      <td>0.000000e+00</td>\n",
       "      <td>0.000000</td>\n",
       "      <td>0.000000</td>\n",
       "      <td>0.000000</td>\n",
       "      <td>1.124200e+04</td>\n",
       "      <td>0.000000e+00</td>\n",
       "      <td>0.000000</td>\n",
       "      <td>585.000000</td>\n",
       "      <td>0.000000</td>\n",
       "    </tr>\n",
       "    <tr>\n",
       "      <th>25%</th>\n",
       "      <td>8.443410e+05</td>\n",
       "      <td>0.000000</td>\n",
       "      <td>8.000000</td>\n",
       "      <td>13.500000</td>\n",
       "      <td>2.792295e+05</td>\n",
       "      <td>0.000000</td>\n",
       "      <td>16.000000</td>\n",
       "      <td>0.000000</td>\n",
       "      <td>1.801690e+05</td>\n",
       "      <td>1.142565e+05</td>\n",
       "      <td>10067.500000</td>\n",
       "      <td>711.000000</td>\n",
       "      <td>0.000000</td>\n",
       "    </tr>\n",
       "    <tr>\n",
       "      <th>50%</th>\n",
       "      <td>1.168386e+06</td>\n",
       "      <td>0.000000</td>\n",
       "      <td>10.000000</td>\n",
       "      <td>17.000000</td>\n",
       "      <td>4.781590e+05</td>\n",
       "      <td>0.000000</td>\n",
       "      <td>32.000000</td>\n",
       "      <td>0.000000</td>\n",
       "      <td>3.095730e+05</td>\n",
       "      <td>2.093230e+05</td>\n",
       "      <td>16076.500000</td>\n",
       "      <td>731.000000</td>\n",
       "      <td>0.000000</td>\n",
       "    </tr>\n",
       "    <tr>\n",
       "      <th>75%</th>\n",
       "      <td>1.640137e+06</td>\n",
       "      <td>0.000000</td>\n",
       "      <td>14.000000</td>\n",
       "      <td>21.800000</td>\n",
       "      <td>7.935015e+05</td>\n",
       "      <td>0.000000</td>\n",
       "      <td>50.000000</td>\n",
       "      <td>0.000000</td>\n",
       "      <td>5.198820e+05</td>\n",
       "      <td>3.604062e+05</td>\n",
       "      <td>23818.000000</td>\n",
       "      <td>743.000000</td>\n",
       "      <td>1.000000</td>\n",
       "    </tr>\n",
       "    <tr>\n",
       "      <th>max</th>\n",
       "      <td>1.014934e+07</td>\n",
       "      <td>7.000000</td>\n",
       "      <td>43.000000</td>\n",
       "      <td>57.700000</td>\n",
       "      <td>1.304726e+09</td>\n",
       "      <td>7.000000</td>\n",
       "      <td>118.000000</td>\n",
       "      <td>4.000000</td>\n",
       "      <td>1.000000e+08</td>\n",
       "      <td>6.506797e+06</td>\n",
       "      <td>136679.000000</td>\n",
       "      <td>7510.000000</td>\n",
       "      <td>1.000000</td>\n",
       "    </tr>\n",
       "  </tbody>\n",
       "</table>\n",
       "</div>"
      ],
      "text/plain": [
       "       Annual Income    Tax Liens  Number of Open Accounts  \\\n",
       "count   5.943000e+03  7500.000000              7500.000000   \n",
       "mean    1.366392e+06     0.030133                11.130933   \n",
       "std     8.453392e+05     0.271604                 4.908924   \n",
       "min     1.645970e+05     0.000000                 2.000000   \n",
       "25%     8.443410e+05     0.000000                 8.000000   \n",
       "50%     1.168386e+06     0.000000                10.000000   \n",
       "75%     1.640137e+06     0.000000                14.000000   \n",
       "max     1.014934e+07     7.000000                43.000000   \n",
       "\n",
       "       Years of Credit History  Maximum Open Credit  \\\n",
       "count              7500.000000         7.500000e+03   \n",
       "mean                 18.317467         9.451537e+05   \n",
       "std                   7.041946         1.602622e+07   \n",
       "min                   4.000000         0.000000e+00   \n",
       "25%                  13.500000         2.792295e+05   \n",
       "50%                  17.000000         4.781590e+05   \n",
       "75%                  21.800000         7.935015e+05   \n",
       "max                  57.700000         1.304726e+09   \n",
       "\n",
       "       Number of Credit Problems  Months since last delinquent  Bankruptcies  \\\n",
       "count                7500.000000                   3419.000000   7486.000000   \n",
       "mean                    0.170000                     34.692600      0.117152   \n",
       "std                     0.498598                     21.688806      0.347192   \n",
       "min                     0.000000                      0.000000      0.000000   \n",
       "25%                     0.000000                     16.000000      0.000000   \n",
       "50%                     0.000000                     32.000000      0.000000   \n",
       "75%                     0.000000                     50.000000      0.000000   \n",
       "max                     7.000000                    118.000000      4.000000   \n",
       "\n",
       "       Current Loan Amount  Current Credit Balance   Monthly Debt  \\\n",
       "count         7.500000e+03            7.500000e+03    7500.000000   \n",
       "mean          1.187318e+07            2.898332e+05   18314.454133   \n",
       "std           3.192612e+07            3.178714e+05   11926.764673   \n",
       "min           1.124200e+04            0.000000e+00       0.000000   \n",
       "25%           1.801690e+05            1.142565e+05   10067.500000   \n",
       "50%           3.095730e+05            2.093230e+05   16076.500000   \n",
       "75%           5.198820e+05            3.604062e+05   23818.000000   \n",
       "max           1.000000e+08            6.506797e+06  136679.000000   \n",
       "\n",
       "       Credit Score  Credit Default  \n",
       "count   5943.000000     7500.000000  \n",
       "mean    1151.087498        0.281733  \n",
       "std     1604.451418        0.449874  \n",
       "min      585.000000        0.000000  \n",
       "25%      711.000000        0.000000  \n",
       "50%      731.000000        0.000000  \n",
       "75%      743.000000        1.000000  \n",
       "max     7510.000000        1.000000  "
      ]
     },
     "execution_count": 3,
     "metadata": {},
     "output_type": "execute_result"
    }
   ],
   "source": [
    "df = pd.read_csv(TRAIN_DATASET_PATH)\n",
    "df.describe()"
   ]
  },
  {
   "cell_type": "code",
   "execution_count": 4,
   "metadata": {},
   "outputs": [],
   "source": [
    "## Максимальные значения Credit Score являются выбросом так как медиана намного ниже среднего значения \n",
    "## Та же ситуация с Current Loan Amount в которм максимальное значение равно 100 миллионам, не похоже на \n",
    "## потребительский кредит."
   ]
  },
  {
   "cell_type": "code",
   "execution_count": 5,
   "metadata": {
    "scrolled": true
   },
   "outputs": [
    {
     "name": "stdout",
     "output_type": "stream",
     "text": [
      "Home Ownership\n",
      "\n",
      "Home Mortgage    3637\n",
      "Rent             3204\n",
      "Own Home          647\n",
      "Have Mortgage      12\n",
      "Name: Home Ownership, dtype: int64\n",
      "****************************************************************************************************\n",
      "\n",
      "Years in current job\n",
      "\n",
      "10+ years    2332\n",
      "2 years       705\n",
      "3 years       620\n",
      "< 1 year      563\n",
      "5 years       516\n",
      "1 year        504\n",
      "4 years       469\n",
      "6 years       426\n",
      "7 years       396\n",
      "8 years       339\n",
      "9 years       259\n",
      "Name: Years in current job, dtype: int64\n",
      "****************************************************************************************************\n",
      "\n",
      "Purpose\n",
      "\n",
      "debt consolidation      5944\n",
      "other                    665\n",
      "home improvements        412\n",
      "business loan            129\n",
      "buy a car                 96\n",
      "medical bills             71\n",
      "major purchase            40\n",
      "take a trip               37\n",
      "buy house                 34\n",
      "small business            26\n",
      "wedding                   15\n",
      "moving                    11\n",
      "educational expenses      10\n",
      "vacation                   8\n",
      "renewable energy           2\n",
      "Name: Purpose, dtype: int64\n",
      "****************************************************************************************************\n",
      "\n",
      "Term\n",
      "\n",
      "Short Term    5556\n",
      "Long Term     1944\n",
      "Name: Term, dtype: int64\n",
      "****************************************************************************************************\n",
      "\n"
     ]
    }
   ],
   "source": [
    "for cat_colname in df.select_dtypes(include='object').columns:\n",
    "    print(str(cat_colname) + '\\n\\n' + str(df[cat_colname].value_counts()) + '\\n' + '*' * 100 + '\\n')"
   ]
  },
  {
   "cell_type": "code",
   "execution_count": 6,
   "metadata": {},
   "outputs": [
    {
     "data": {
      "text/plain": [
       "1161660.0    4\n",
       "1058376.0    4\n",
       "1338113.0    4\n",
       "1043651.0    4\n",
       "969475.0     4\n",
       "            ..\n",
       "1141254.0    1\n",
       "7907382.0    1\n",
       "1534478.0    1\n",
       "972040.0     1\n",
       "1654786.0    1\n",
       "Name: Annual Income, Length: 5478, dtype: int64"
      ]
     },
     "execution_count": 6,
     "metadata": {},
     "output_type": "execute_result"
    }
   ],
   "source": [
    "df['Annual Income'].value_counts()"
   ]
  },
  {
   "cell_type": "code",
   "execution_count": 7,
   "metadata": {},
   "outputs": [],
   "source": [
    "## Уникаольных значений многовато, выводы насчет выбросов сформировать сложно"
   ]
  },
  {
   "cell_type": "code",
   "execution_count": 8,
   "metadata": {},
   "outputs": [
    {
     "data": {
      "text/plain": [
       "Home Mortgage    3637\n",
       "Rent             3204\n",
       "Own Home          647\n",
       "Have Mortgage      12\n",
       "Name: Home Ownership, dtype: int64"
      ]
     },
     "execution_count": 8,
     "metadata": {},
     "output_type": "execute_result"
    }
   ],
   "source": [
    "df['Home Ownership'].value_counts()"
   ]
  },
  {
   "cell_type": "code",
   "execution_count": 9,
   "metadata": {},
   "outputs": [],
   "source": [
    "## Здесь все в порядке, только вот возникает вопрос в чем разница между Home Mortgage и Have Mortgage (возможна опечатка?)"
   ]
  },
  {
   "cell_type": "code",
   "execution_count": 10,
   "metadata": {},
   "outputs": [
    {
     "data": {
      "text/plain": [
       "10+ years    2332\n",
       "2 years       705\n",
       "3 years       620\n",
       "< 1 year      563\n",
       "5 years       516\n",
       "1 year        504\n",
       "4 years       469\n",
       "6 years       426\n",
       "7 years       396\n",
       "8 years       339\n",
       "9 years       259\n",
       "Name: Years in current job, dtype: int64"
      ]
     },
     "execution_count": 10,
     "metadata": {},
     "output_type": "execute_result"
    }
   ],
   "source": [
    "df['Years in current job'].value_counts()"
   ]
  },
  {
   "cell_type": "code",
   "execution_count": 11,
   "metadata": {},
   "outputs": [],
   "source": [
    "## Ничего подозрительного движемся дальше"
   ]
  },
  {
   "cell_type": "code",
   "execution_count": 12,
   "metadata": {},
   "outputs": [
    {
     "data": {
      "text/plain": [
       "0.0    7366\n",
       "1.0      83\n",
       "2.0      30\n",
       "3.0      10\n",
       "4.0       6\n",
       "5.0       2\n",
       "6.0       2\n",
       "7.0       1\n",
       "Name: Tax Liens, dtype: int64"
      ]
     },
     "execution_count": 12,
     "metadata": {},
     "output_type": "execute_result"
    }
   ],
   "source": [
    "df['Tax Liens'].value_counts()"
   ]
  },
  {
   "cell_type": "code",
   "execution_count": 13,
   "metadata": {},
   "outputs": [],
   "source": [
    "## Здесь можно смело посчитать значения выше 4-х выбросом и заменить их на 0.0"
   ]
  },
  {
   "cell_type": "code",
   "execution_count": 14,
   "metadata": {},
   "outputs": [
    {
     "data": {
      "text/plain": [
       "9.0     728\n",
       "11.0    692\n",
       "10.0    677\n",
       "8.0     638\n",
       "7.0     613\n",
       "12.0    562\n",
       "6.0     504\n",
       "13.0    465\n",
       "14.0    420\n",
       "5.0     325\n",
       "15.0    313\n",
       "16.0    265\n",
       "17.0    232\n",
       "4.0     212\n",
       "18.0    143\n",
       "19.0    139\n",
       "3.0      95\n",
       "20.0     93\n",
       "21.0     78\n",
       "23.0     59\n",
       "24.0     50\n",
       "22.0     49\n",
       "25.0     32\n",
       "2.0      28\n",
       "28.0     14\n",
       "27.0     14\n",
       "26.0     12\n",
       "30.0     11\n",
       "29.0     10\n",
       "32.0      6\n",
       "33.0      6\n",
       "31.0      6\n",
       "34.0      2\n",
       "37.0      2\n",
       "43.0      1\n",
       "35.0      1\n",
       "41.0      1\n",
       "38.0      1\n",
       "42.0      1\n",
       "Name: Number of Open Accounts, dtype: int64"
      ]
     },
     "execution_count": 14,
     "metadata": {},
     "output_type": "execute_result"
    }
   ],
   "source": [
    "df['Number of Open Accounts'].value_counts()"
   ]
  },
  {
   "cell_type": "code",
   "execution_count": 15,
   "metadata": {},
   "outputs": [],
   "source": [
    "## Думаю стоит заменить все значения выше или равные 26 на медианп"
   ]
  },
  {
   "cell_type": "code",
   "execution_count": 16,
   "metadata": {},
   "outputs": [
    {
     "data": {
      "text/plain": [
       "15.0    104\n",
       "16.0     99\n",
       "16.5     91\n",
       "17.0     86\n",
       "17.5     83\n",
       "       ... \n",
       "43.2      1\n",
       "4.9       1\n",
       "39.5      1\n",
       "42.4      1\n",
       "39.8      1\n",
       "Name: Years of Credit History, Length: 408, dtype: int64"
      ]
     },
     "execution_count": 16,
     "metadata": {},
     "output_type": "execute_result"
    }
   ],
   "source": [
    "df['Years of Credit History'].value_counts()"
   ]
  },
  {
   "cell_type": "code",
   "execution_count": 17,
   "metadata": {},
   "outputs": [],
   "source": [
    "## Отбор данных усложнен наличием десятичных дробей, при зачистке данных можно опираться на медиану и максимальное значение"
   ]
  },
  {
   "cell_type": "code",
   "execution_count": 18,
   "metadata": {},
   "outputs": [
    {
     "data": {
      "text/plain": [
       "0.0          65\n",
       "319110.0      5\n",
       "334796.0      3\n",
       "607046.0      3\n",
       "294030.0      3\n",
       "             ..\n",
       "534600.0      1\n",
       "1026124.0     1\n",
       "77066.0       1\n",
       "780164.0      1\n",
       "350768.0      1\n",
       "Name: Maximum Open Credit, Length: 6963, dtype: int64"
      ]
     },
     "execution_count": 18,
     "metadata": {},
     "output_type": "execute_result"
    }
   ],
   "source": [
    "df['Maximum Open Credit'].value_counts()"
   ]
  },
  {
   "cell_type": "code",
   "execution_count": 19,
   "metadata": {},
   "outputs": [],
   "source": [
    "## Выглядит чисто, нужно только проверить максимальные значения"
   ]
  },
  {
   "cell_type": "code",
   "execution_count": 20,
   "metadata": {},
   "outputs": [
    {
     "data": {
      "text/plain": [
       "0.0    6469\n",
       "1.0     882\n",
       "2.0      93\n",
       "3.0      35\n",
       "4.0       9\n",
       "5.0       7\n",
       "6.0       4\n",
       "7.0       1\n",
       "Name: Number of Credit Problems, dtype: int64"
      ]
     },
     "execution_count": 20,
     "metadata": {},
     "output_type": "execute_result"
    }
   ],
   "source": [
    "df['Number of Credit Problems'].value_counts()"
   ]
  },
  {
   "cell_type": "code",
   "execution_count": 21,
   "metadata": {},
   "outputs": [],
   "source": [
    "## Ситуация схожа с Tax Liens, можно заменить значения выше 4-х на медиану или ноль"
   ]
  },
  {
   "cell_type": "code",
   "execution_count": 22,
   "metadata": {},
   "outputs": [
    {
     "data": {
      "text/plain": [
       "14.0     76\n",
       "29.0     71\n",
       "8.0      68\n",
       "33.0     68\n",
       "13.0     65\n",
       "         ..\n",
       "86.0      1\n",
       "92.0      1\n",
       "118.0     1\n",
       "84.0      1\n",
       "91.0      1\n",
       "Name: Months since last delinquent, Length: 89, dtype: int64"
      ]
     },
     "execution_count": 22,
     "metadata": {},
     "output_type": "execute_result"
    }
   ],
   "source": [
    "df['Months since last delinquent'].value_counts()"
   ]
  },
  {
   "cell_type": "code",
   "execution_count": 23,
   "metadata": {},
   "outputs": [],
   "source": [
    "## Вроде все в порядке"
   ]
  },
  {
   "cell_type": "code",
   "execution_count": 24,
   "metadata": {},
   "outputs": [
    {
     "data": {
      "text/plain": [
       "0.0    6660\n",
       "1.0     786\n",
       "2.0      31\n",
       "3.0       7\n",
       "4.0       2\n",
       "Name: Bankruptcies, dtype: int64"
      ]
     },
     "execution_count": 24,
     "metadata": {},
     "output_type": "execute_result"
    }
   ],
   "source": [
    "df['Bankruptcies'].value_counts()"
   ]
  },
  {
   "cell_type": "code",
   "execution_count": 25,
   "metadata": {},
   "outputs": [],
   "source": [
    "## Три банкротства, жизнь ничему не учит; заменить данные выше 2-х на медиану"
   ]
  },
  {
   "cell_type": "code",
   "execution_count": 26,
   "metadata": {},
   "outputs": [
    {
     "data": {
      "text/plain": [
       "debt consolidation      5944\n",
       "other                    665\n",
       "home improvements        412\n",
       "business loan            129\n",
       "buy a car                 96\n",
       "medical bills             71\n",
       "major purchase            40\n",
       "take a trip               37\n",
       "buy house                 34\n",
       "small business            26\n",
       "wedding                   15\n",
       "moving                    11\n",
       "educational expenses      10\n",
       "vacation                   8\n",
       "renewable energy           2\n",
       "Name: Purpose, dtype: int64"
      ]
     },
     "execution_count": 26,
     "metadata": {},
     "output_type": "execute_result"
    }
   ],
   "source": [
    "df['Purpose'].value_counts()"
   ]
  },
  {
   "cell_type": "code",
   "execution_count": 27,
   "metadata": {},
   "outputs": [],
   "source": [
    "## Не уверен стоит ли трогать данный столбец"
   ]
  },
  {
   "cell_type": "code",
   "execution_count": 28,
   "metadata": {},
   "outputs": [
    {
     "data": {
      "text/plain": [
       "Short Term    5556\n",
       "Long Term     1944\n",
       "Name: Term, dtype: int64"
      ]
     },
     "execution_count": 28,
     "metadata": {},
     "output_type": "execute_result"
    }
   ],
   "source": [
    "df['Term'].value_counts()"
   ]
  },
  {
   "cell_type": "code",
   "execution_count": 29,
   "metadata": {},
   "outputs": [],
   "source": [
    "## Нет проблем"
   ]
  },
  {
   "cell_type": "code",
   "execution_count": 30,
   "metadata": {},
   "outputs": [
    {
     "data": {
      "text/plain": [
       "99999999.0    870\n",
       "89298.0         6\n",
       "218064.0        6\n",
       "216106.0        5\n",
       "270226.0        5\n",
       "             ... \n",
       "490006.0        1\n",
       "404756.0        1\n",
       "194414.0        1\n",
       "420376.0        1\n",
       "33792.0         1\n",
       "Name: Current Loan Amount, Length: 5386, dtype: int64"
      ]
     },
     "execution_count": 30,
     "metadata": {},
     "output_type": "execute_result"
    }
   ],
   "source": [
    "df['Current Loan Amount'].value_counts()"
   ]
  },
  {
   "cell_type": "code",
   "execution_count": 31,
   "metadata": {},
   "outputs": [],
   "source": [
    "## 870 людей с займом в 100 миллионов, огромный выброс. Не уверен как исправлять такое колличество данных, не приводить \n",
    "## же их все к медиане "
   ]
  },
  {
   "cell_type": "code",
   "execution_count": 32,
   "metadata": {},
   "outputs": [
    {
     "data": {
      "text/plain": [
       "0.0         53\n",
       "191710.0     5\n",
       "53580.0      4\n",
       "106818.0     4\n",
       "155059.0     4\n",
       "            ..\n",
       "229672.0     1\n",
       "349467.0     1\n",
       "116223.0     1\n",
       "797240.0     1\n",
       "189905.0     1\n",
       "Name: Current Credit Balance, Length: 6592, dtype: int64"
      ]
     },
     "execution_count": 32,
     "metadata": {},
     "output_type": "execute_result"
    }
   ],
   "source": [
    "df['Current Credit Balance'].value_counts()"
   ]
  },
  {
   "cell_type": "code",
   "execution_count": 33,
   "metadata": {},
   "outputs": [],
   "source": [
    "## Вроде проблем нет"
   ]
  },
  {
   "cell_type": "code",
   "execution_count": 34,
   "metadata": {},
   "outputs": [
    {
     "data": {
      "text/plain": [
       "0.0        6\n",
       "19222.0    4\n",
       "19667.0    4\n",
       "9525.0     3\n",
       "22364.0    3\n",
       "          ..\n",
       "12897.0    1\n",
       "27541.0    1\n",
       "23227.0    1\n",
       "55957.0    1\n",
       "17.0       1\n",
       "Name: Monthly Debt, Length: 6716, dtype: int64"
      ]
     },
     "execution_count": 34,
     "metadata": {},
     "output_type": "execute_result"
    }
   ],
   "source": [
    "df['Monthly Debt'].value_counts()"
   ]
  },
  {
   "cell_type": "code",
   "execution_count": 35,
   "metadata": {},
   "outputs": [],
   "source": [
    "## Думаю, нужно приравнять все значения ниже опредленного порога к медиане (Зачем выдавать человеку кредит если он будет\n",
    "## платить 0 или 15 У.Е)"
   ]
  },
  {
   "cell_type": "code",
   "execution_count": 36,
   "metadata": {},
   "outputs": [
    {
     "data": {
      "text/plain": [
       "740.0     169\n",
       "747.0     168\n",
       "748.0     157\n",
       "745.0     152\n",
       "741.0     151\n",
       "         ... \n",
       "602.0       1\n",
       "616.0       1\n",
       "585.0       1\n",
       "620.0       1\n",
       "7010.0      1\n",
       "Name: Credit Score, Length: 268, dtype: int64"
      ]
     },
     "execution_count": 36,
     "metadata": {},
     "output_type": "execute_result"
    }
   ],
   "source": [
    "df['Credit Score'].value_counts()"
   ]
  },
  {
   "cell_type": "code",
   "execution_count": 37,
   "metadata": {},
   "outputs": [],
   "source": [
    "## Значение 7010 менять на медиану"
   ]
  },
  {
   "cell_type": "code",
   "execution_count": 38,
   "metadata": {},
   "outputs": [
    {
     "data": {
      "text/plain": [
       "0    5387\n",
       "1    2113\n",
       "Name: Credit Default, dtype: int64"
      ]
     },
     "execution_count": 38,
     "metadata": {},
     "output_type": "execute_result"
    }
   ],
   "source": [
    "df['Credit Default'].value_counts()"
   ]
  },
  {
   "cell_type": "code",
   "execution_count": 39,
   "metadata": {},
   "outputs": [],
   "source": [
    "## Все окей"
   ]
  },
  {
   "cell_type": "code",
   "execution_count": 40,
   "metadata": {},
   "outputs": [
    {
     "name": "stdout",
     "output_type": "stream",
     "text": [
      "<class 'pandas.core.frame.DataFrame'>\n",
      "RangeIndex: 7500 entries, 0 to 7499\n",
      "Data columns (total 17 columns):\n",
      " #   Column                        Non-Null Count  Dtype  \n",
      "---  ------                        --------------  -----  \n",
      " 0   Home Ownership                7500 non-null   object \n",
      " 1   Annual Income                 5943 non-null   float64\n",
      " 2   Years in current job          7129 non-null   object \n",
      " 3   Tax Liens                     7500 non-null   float64\n",
      " 4   Number of Open Accounts       7500 non-null   float64\n",
      " 5   Years of Credit History       7500 non-null   float64\n",
      " 6   Maximum Open Credit           7500 non-null   float64\n",
      " 7   Number of Credit Problems     7500 non-null   float64\n",
      " 8   Months since last delinquent  3419 non-null   float64\n",
      " 9   Bankruptcies                  7486 non-null   float64\n",
      " 10  Purpose                       7500 non-null   object \n",
      " 11  Term                          7500 non-null   object \n",
      " 12  Current Loan Amount           7500 non-null   float64\n",
      " 13  Current Credit Balance        7500 non-null   float64\n",
      " 14  Monthly Debt                  7500 non-null   float64\n",
      " 15  Credit Score                  5943 non-null   float64\n",
      " 16  Credit Default                7500 non-null   int64  \n",
      "dtypes: float64(12), int64(1), object(4)\n",
      "memory usage: 996.2+ KB\n"
     ]
    }
   ],
   "source": [
    "df.info()"
   ]
  },
  {
   "cell_type": "code",
   "execution_count": 41,
   "metadata": {},
   "outputs": [],
   "source": [
    "## Пропущенные значения есть в: Annual Income, Years in current job, Months since last delinquent, Bankruptcies, Credit Score"
   ]
  },
  {
   "cell_type": "markdown",
   "metadata": {},
   "source": [
    "# Текстовая часть"
   ]
  },
  {
   "cell_type": "code",
   "execution_count": 42,
   "metadata": {},
   "outputs": [],
   "source": [
    "# 1.Максимизируем Precision при:\n",
    "# 1.1. Распознавании нарушений ПДД (контроль автобусной полосы)\n",
    "# 1.2. Наблюдении за клиентами на кассах самообслуживания(для уменьшения краж)\n",
    "# 1.3. Распознавании текста\n",
    "# Максимизируем Recall при:\n",
    "# 2.1. Контекстной рекламе(Рекомендуем всем кто может быть хоть немного заинтересован\n",
    "#  для максимизации охвата)\n",
    "# 2.2. При уничтожении зараженных растений или же опрыскивании их ядом от вредителей\n",
    "# (для недопущения заражения остальных растений или потери всего урожая от пропущенных вредителей)\n",
    "\n",
    "# 2. F-мера может использоваться в большем колличестве задач благодоря ее гибкости, в то время как\n",
    "# среднее значение Recall и Precision может применяться в очень узком круге задач, где их \n",
    "# важность одинакова."
   ]
  }
 ],
 "metadata": {
  "kernelspec": {
   "display_name": "Python 3",
   "language": "python",
   "name": "python3"
  },
  "language_info": {
   "codemirror_mode": {
    "name": "ipython",
    "version": 3
   },
   "file_extension": ".py",
   "mimetype": "text/x-python",
   "name": "python",
   "nbconvert_exporter": "python",
   "pygments_lexer": "ipython3",
   "version": "3.8.5"
  }
 },
 "nbformat": 4,
 "nbformat_minor": 4
}
