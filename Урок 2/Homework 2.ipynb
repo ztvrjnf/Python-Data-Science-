{
 "cells": [
  {
   "cell_type": "markdown",
   "metadata": {},
   "source": [
    "# Текстовая часть"
   ]
  },
  {
   "cell_type": "code",
   "execution_count": 1,
   "metadata": {},
   "outputs": [],
   "source": [
    "## 1.В зависимых выборках можно найти для каждого значения выборки соответствующее значенение \n",
    "## из другой выборки. Такое часто можно заметить если измерения для одного процесса \n",
    "## производились в разные промежутки времени(в пример можно взять изучаемую базу данных, а именно\n",
    "## значения BILL_ATM 1-6). И соотвественно независимые выборки свободны от такого."
   ]
  },
  {
   "cell_type": "code",
   "execution_count": 2,
   "metadata": {},
   "outputs": [],
   "source": [
    "## 2. Параметрические статистические критерии применяются когда нам известен тип распределения данных и обычно \n",
    "## многие параметрические критерии предполагают нормальность распределения данных.\n",
    "## А непараметрические критерии исходят из того, что распределение данных незвестно, и применяют их во всех\n",
    "## подобных случаях."
   ]
  }
 ],
 "metadata": {
  "kernelspec": {
   "display_name": "Python 3",
   "language": "python",
   "name": "python3"
  },
  "language_info": {
   "codemirror_mode": {
    "name": "ipython",
    "version": 3
   },
   "file_extension": ".py",
   "mimetype": "text/x-python",
   "name": "python",
   "nbconvert_exporter": "python",
   "pygments_lexer": "ipython3",
   "version": "3.8.5"
  }
 },
 "nbformat": 4,
 "nbformat_minor": 4
}
